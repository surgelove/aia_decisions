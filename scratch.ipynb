{
 "cells": [
  {
   "cell_type": "code",
   "execution_count": 1,
   "id": "d14379fd",
   "metadata": {},
   "outputs": [
    {
     "data": {
      "text/plain": [
       "0.00136879"
      ]
     },
     "execution_count": 1,
     "metadata": {},
     "output_type": "execute_result"
    }
   ],
   "source": [
    "price = 1.36879\n",
    "\n",
    "price / 1000 "
   ]
  },
  {
   "cell_type": "code",
   "execution_count": 2,
   "id": "dd8256f9",
   "metadata": {},
   "outputs": [
    {
     "data": {
      "text/plain": [
       "4.0"
      ]
     },
     "execution_count": 2,
     "metadata": {},
     "output_type": "execute_result"
    }
   ],
   "source": [
    "price = 4000\n",
    "\n",
    "price / 1000 "
   ]
  },
  {
   "cell_type": "code",
   "execution_count": null,
   "id": "cfde6bf4",
   "metadata": {},
   "outputs": [],
   "source": [
    "def pipize(price):\n",
    "    return price / 100000\n"
   ]
  },
  {
   "cell_type": "code",
   "execution_count": 5,
   "id": "f1f67194",
   "metadata": {},
   "outputs": [
    {
     "data": {
      "text/plain": [
       "0.00136879"
      ]
     },
     "execution_count": 5,
     "metadata": {},
     "output_type": "execute_result"
    }
   ],
   "source": [
    "pipize(1.36879, 10)"
   ]
  },
  {
   "cell_type": "code",
   "execution_count": null,
   "id": "4e4fb3ab",
   "metadata": {},
   "outputs": [],
   "source": []
  }
 ],
 "metadata": {
  "kernelspec": {
   "display_name": "Python 3",
   "language": "python",
   "name": "python3"
  },
  "language_info": {
   "codemirror_mode": {
    "name": "ipython",
    "version": 3
   },
   "file_extension": ".py",
   "mimetype": "text/x-python",
   "name": "python",
   "nbconvert_exporter": "python",
   "pygments_lexer": "ipython3",
   "version": "3.13.1"
  }
 },
 "nbformat": 4,
 "nbformat_minor": 5
}
